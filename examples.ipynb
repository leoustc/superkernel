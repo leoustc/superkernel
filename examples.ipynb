{
 "cells": [
  {
   "cell_type": "code",
   "execution_count": 1,
   "id": "ed57c14c-851f-45c4-87bb-b939bad96f54",
   "metadata": {},
   "outputs": [
    {
     "data": {
      "text/markdown": [
       "### SuperKernel\n",
       "- **Version**: `1.0.3`\n",
       "- **Endpoint**: `https://superkernel.leoustc.com`\n",
       "- **Session**: `c56d0b22-8c5f-491b-9860-a025da1589ca`\n",
       "- **Auth**: Authorization: Bearer <API_KEY>\n",
       "- **Magics**: %reset, %shutdown, %welcome, %reconnect\n"
      ]
     },
     "metadata": {},
     "output_type": "display_data"
    }
   ],
   "source": [
    "%welcome"
   ]
  },
  {
   "cell_type": "code",
   "execution_count": 2,
   "id": "290d0bb0-2a90-4709-81e9-35adb3129570",
   "metadata": {},
   "outputs": [],
   "source": [
    "rank = dist.get_rank()\n",
    "world_size = dist.get_world_size()\n",
    "device = torch.device(\"cpu\")"
   ]
  },
  {
   "cell_type": "code",
   "execution_count": 3,
   "id": "3d019783-d15f-4922-b95d-1e199d855d60",
   "metadata": {},
   "outputs": [],
   "source": [
    "x = torch.tensor([float(rank + 1)], device=device)"
   ]
  },
  {
   "cell_type": "code",
   "execution_count": 4,
   "id": "16ed7339-6498-44f6-b5c7-afcc8466b5ec",
   "metadata": {},
   "outputs": [
    {
     "name": "stdout",
     "output_type": "stream",
     "text": [
      "[rank    0] before allreduce: 1.0\n",
      "[rank    1] before allreduce: 2.0\n",
      "[rank    2] before allreduce: 3.0\n",
      "[rank    3] before allreduce: 4.0\n",
      "[rank    4] before allreduce: 5.0\n",
      "[rank    5] before allreduce: 6.0\n",
      "[rank    6] before allreduce: 7.0\n",
      "[rank    7] before allreduce: 8.0\n",
      "[rank    8] before allreduce: 9.0\n",
      "[rank    9] before allreduce: 10.0\n",
      "[rank   10] before allreduce: 11.0\n",
      "[rank   11] before allreduce: 12.0\n",
      "[rank   12] before allreduce: 13.0\n",
      "[rank   13] before allreduce: 14.0\n",
      "[rank   14] before allreduce: 15.0\n",
      "[rank   15] before allreduce: 16.0\n",
      "[rank   16] before allreduce: 17.0\n",
      "[rank   17] before allreduce: 18.0\n",
      "[rank   18] before allreduce: 19.0\n",
      "[rank   19] before allreduce: 20.0\n",
      "[rank   20] before allreduce: 21.0\n",
      "[rank   21] before allreduce: 22.0\n",
      "[rank   22] before allreduce: 23.0\n",
      "[rank   23] before allreduce: 24.0\n"
     ]
    }
   ],
   "source": [
    "print(f\"before allreduce: {x.item()}\")"
   ]
  },
  {
   "cell_type": "code",
   "execution_count": 5,
   "id": "93b787ce-e1dc-4d5b-b9c3-03e948e8d935",
   "metadata": {},
   "outputs": [],
   "source": [
    "dist.all_reduce(x, op=dist.ReduceOp.SUM)"
   ]
  },
  {
   "cell_type": "code",
   "execution_count": 6,
   "id": "d2727a46-6d3b-40d9-966b-cbd4bc4c9426",
   "metadata": {},
   "outputs": [
    {
     "name": "stdout",
     "output_type": "stream",
     "text": [
      "[rank    0] after allreduce: 300.0 (world_size=24)\n"
     ]
    }
   ],
   "source": [
    "if rank == 0:\n",
    "    print(f\"after allreduce: {x.item()} (world_size={world_size})\")"
   ]
  },
  {
   "cell_type": "code",
   "execution_count": 7,
   "id": "48ac70af-2f0b-4104-957a-54af631da15a",
   "metadata": {},
   "outputs": [
    {
     "name": "stdout",
     "output_type": "stream",
     "text": [
      "[rank    0] after allreduce: 300.0 (world_size=24)\n",
      "[rank    1] after allreduce: 300.0 (world_size=24)\n",
      "[rank    2] after allreduce: 300.0 (world_size=24)\n",
      "[rank    3] after allreduce: 300.0 (world_size=24)\n",
      "[rank    4] after allreduce: 300.0 (world_size=24)\n"
     ]
    }
   ],
   "source": [
    "if rank < 5:\n",
    "    print(f\"after allreduce: {x.item()} (world_size={world_size})\")    "
   ]
  },
  {
   "cell_type": "code",
   "execution_count": null,
   "id": "45049005-66ac-408f-ad6e-a2d48c297c27",
   "metadata": {},
   "outputs": [],
   "source": []
  }
 ],
 "metadata": {
  "kernelspec": {
   "display_name": "SuperKernel",
   "language": "python",
   "name": "kernel_agent-superkernel"
  },
  "language_info": {
   "file_extension": ".py",
   "mimetype": "text/x-python",
   "name": "python"
  }
 },
 "nbformat": 4,
 "nbformat_minor": 5
}
