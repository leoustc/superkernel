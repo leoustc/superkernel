{
 "cells": [
  {
   "cell_type": "code",
   "execution_count": 8,
   "id": "5d4ff842-fa9f-4fc2-b4d0-0ad9a8a878ac",
   "metadata": {},
   "outputs": [
    {
     "name": "stdout",
     "output_type": "stream",
     "text": [
      "[rank    0] mpi-0\n",
      "[rank    1] mpi-0\n",
      "[rank    2] mpi-0\n",
      "[rank    3] mpi-0\n",
      "[rank    4] mpi-0\n",
      "[rank    5] mpi-0\n",
      "[rank    6] mpi-1\n",
      "[rank    7] mpi-1\n",
      "[rank    8] mpi-1\n",
      "[rank    9] mpi-1\n",
      "[rank   10] mpi-1\n",
      "[rank   11] mpi-1\n"
     ]
    }
   ],
   "source": [
    "!hostname"
   ]
  },
  {
   "cell_type": "code",
   "execution_count": 9,
   "id": "1c5b753d-d074-45ed-8ad7-a43cb529f73e",
   "metadata": {},
   "outputs": [],
   "source": [
    "comm = MPI.COMM_WORLD"
   ]
  },
  {
   "cell_type": "code",
   "execution_count": 10,
   "id": "0614911d-4f7f-439f-963f-014de79e7f08",
   "metadata": {},
   "outputs": [],
   "source": [
    "rank = comm.Get_rank()\n",
    "size = comm.Get_size()\n",
    "# Each rank starts with its own value\n",
    "value = rank + 1   # rank0=1, rank1=2, rank2=3, ...\n",
    "# Perform an allreduce (sum)\n",
    "total = comm.allreduce(value, op=MPI.SUM)"
   ]
  },
  {
   "cell_type": "code",
   "execution_count": 11,
   "id": "ecec1a39-1b2f-4e73-8350-154626053540",
   "metadata": {},
   "outputs": [
    {
     "name": "stdout",
     "output_type": "stream",
     "text": [
      "[rank    0] local value = 1, total sum = 78 (world_size=12)\n",
      "[rank    1] local value = 2, total sum = 78 (world_size=12)\n",
      "[rank    2] local value = 3, total sum = 78 (world_size=12)\n",
      "[rank    3] local value = 4, total sum = 78 (world_size=12)\n",
      "[rank    4] local value = 5, total sum = 78 (world_size=12)\n",
      "[rank    5] local value = 6, total sum = 78 (world_size=12)\n",
      "[rank    6] local value = 7, total sum = 78 (world_size=12)\n",
      "[rank    7] local value = 8, total sum = 78 (world_size=12)\n",
      "[rank    8] local value = 9, total sum = 78 (world_size=12)\n",
      "[rank    9] local value = 10, total sum = 78 (world_size=12)\n",
      "[rank   10] local value = 11, total sum = 78 (world_size=12)\n",
      "[rank   11] local value = 12, total sum = 78 (world_size=12)\n"
     ]
    }
   ],
   "source": [
    "print(f\"local value = {value}, total sum = {total} (world_size={size})\")"
   ]
  },
  {
   "cell_type": "code",
   "execution_count": 12,
   "id": "722aa516-eec2-4626-8899-fc28d8a61f7c",
   "metadata": {},
   "outputs": [
    {
     "name": "stdout",
     "output_type": "stream",
     "text": [
      "[rank    0] local value = 1, total sum = 78 (world_size=12)\n",
      "[rank    1] local value = 2, total sum = 78 (world_size=12)\n",
      "[rank    2] local value = 3, total sum = 78 (world_size=12)\n"
     ]
    }
   ],
   "source": [
    "if rank < 3:\n",
    "    print(f\"local value = {value}, total sum = {total} (world_size={size})\")"
   ]
  },
  {
   "cell_type": "code",
   "execution_count": null,
   "id": "00433fa8-2fe4-4f95-a2a6-73e49d14f2fa",
   "metadata": {},
   "outputs": [],
   "source": []
  }
 ],
 "metadata": {
  "kernelspec": {
   "display_name": "MPI\n(SuperKernel)",
   "language": "python",
   "name": "kernel_agent-mpi"
  },
  "language_info": {
   "file_extension": ".py",
   "mimetype": "text/x-python",
   "name": "python"
  }
 },
 "nbformat": 4,
 "nbformat_minor": 5
}
